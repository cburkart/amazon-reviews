{
 "cells": [
  {
   "cell_type": "markdown",
   "id": "b3541e2f",
   "metadata": {},
   "source": [
    "# Data Preparation\n",
    "\n",
    "The purpose of this notebook is only to pull from the original json file and export to csv. The intent is to make it easier to do subsequent exploration, visualization, and modeling."
   ]
  },
  {
   "cell_type": "code",
   "execution_count": 1,
   "id": "2d8d7059",
   "metadata": {},
   "outputs": [],
   "source": [
    "import json\n",
    "import pandas as pd"
   ]
  },
  {
   "cell_type": "code",
   "execution_count": 2,
   "id": "1831e420",
   "metadata": {},
   "outputs": [],
   "source": [
    "reviews = []\n",
    "for line in open('json/dev/dataset_en_dev.json', 'r'):\n",
    "    reviews.append(json.loads(line))"
   ]
  },
  {
   "cell_type": "code",
   "execution_count": 3,
   "id": "ece89db2",
   "metadata": {},
   "outputs": [
    {
     "data": {
      "text/plain": [
       "5000"
      ]
     },
     "execution_count": 3,
     "metadata": {},
     "output_type": "execute_result"
    }
   ],
   "source": [
    "len(reviews)"
   ]
  },
  {
   "cell_type": "code",
   "execution_count": 4,
   "id": "5e2bfc7f",
   "metadata": {},
   "outputs": [
    {
     "data": {
      "text/plain": [
       "'1'"
      ]
     },
     "execution_count": 4,
     "metadata": {},
     "output_type": "execute_result"
    }
   ],
   "source": [
    "reviews[1]['stars']"
   ]
  },
  {
   "cell_type": "code",
   "execution_count": 5,
   "id": "34176067",
   "metadata": {},
   "outputs": [
    {
     "data": {
      "text/plain": [
       "'Garbage!'"
      ]
     },
     "execution_count": 5,
     "metadata": {},
     "output_type": "execute_result"
    }
   ],
   "source": [
    "reviews[1]['review_title']"
   ]
  },
  {
   "cell_type": "code",
   "execution_count": 6,
   "id": "089f8f11",
   "metadata": {},
   "outputs": [
    {
     "data": {
      "text/plain": [
       "'shoes'"
      ]
     },
     "execution_count": 6,
     "metadata": {},
     "output_type": "execute_result"
    }
   ],
   "source": [
    "reviews[1]['product_category']"
   ]
  },
  {
   "cell_type": "code",
   "execution_count": 7,
   "id": "ee5b922a",
   "metadata": {},
   "outputs": [
    {
     "data": {
      "text/plain": [
       "\"Shoes were purchased on March 6, 2019. My wife wore them a couple times a week since receiving them. April 19, 2019 one of the leather straps broke. Checked return policy and it expired on April 6. One month of warranty? Won't buy shoes from Amazon again.\""
      ]
     },
     "execution_count": 7,
     "metadata": {},
     "output_type": "execute_result"
    }
   ],
   "source": [
    "reviews[1]['review_body']"
   ]
  },
  {
   "cell_type": "code",
   "execution_count": 8,
   "id": "757eb560",
   "metadata": {},
   "outputs": [
    {
     "data": {
      "text/plain": [
       "{'review_id': 'en_0830781',\n",
       " 'product_id': 'product_en_0004522',\n",
       " 'reviewer_id': 'reviewer_en_0731158',\n",
       " 'stars': '1',\n",
       " 'review_body': \"Shoes were purchased on March 6, 2019. My wife wore them a couple times a week since receiving them. April 19, 2019 one of the leather straps broke. Checked return policy and it expired on April 6. One month of warranty? Won't buy shoes from Amazon again.\",\n",
       " 'review_title': 'Garbage!',\n",
       " 'language': 'en',\n",
       " 'product_category': 'shoes'}"
      ]
     },
     "execution_count": 8,
     "metadata": {},
     "output_type": "execute_result"
    }
   ],
   "source": [
    "reviews[1]"
   ]
  },
  {
   "cell_type": "code",
   "execution_count": 9,
   "id": "13e478b1",
   "metadata": {},
   "outputs": [],
   "source": [
    "# Create individual data columns\n",
    "def extract_feature(label):\n",
    "    output = []\n",
    "    for i in range(0,len(reviews)):\n",
    "        output.append(reviews[i][label])\n",
    "    return(pd.DataFrame(output))\n",
    "\n",
    "# stars = []\n",
    "# for i in range(0,len(reviews)):\n",
    "#     stars.append(reviews[i]['stars'])"
   ]
  },
  {
   "cell_type": "code",
   "execution_count": 10,
   "id": "dc916c30",
   "metadata": {},
   "outputs": [],
   "source": [
    "stars = extract_feature('stars')\n",
    "title = extract_feature('review_title')\n",
    "category = extract_feature('product_category')\n",
    "body = extract_feature('review_body')\n",
    "reviewer = extract_feature('reviewer_id')"
   ]
  },
  {
   "cell_type": "code",
   "execution_count": 11,
   "id": "848dccbe",
   "metadata": {
    "scrolled": true
   },
   "outputs": [
    {
     "data": {
      "text/plain": [
       "1    1000\n",
       "2    1000\n",
       "3    1000\n",
       "4    1000\n",
       "5    1000\n",
       "dtype: int64"
      ]
     },
     "execution_count": 11,
     "metadata": {},
     "output_type": "execute_result"
    }
   ],
   "source": [
    "stars.value_counts()"
   ]
  },
  {
   "cell_type": "markdown",
   "id": "aeaf182f",
   "metadata": {},
   "source": [
    "Interesting, perfectly balanced category counts...however, stars might be more cast to integer values:"
   ]
  },
  {
   "cell_type": "markdown",
   "id": "cb824626",
   "metadata": {},
   "source": [
    "Is there a possiblity that we have multiple reviews by the same reviewer? If so that might be something to consider, e.g. if there's evidence they're machine generated they might be removed; or if there are many multi-review submissions we can normalize to that reviewer (is it someone who tends to give mostly 1's or mostly 5's?)"
   ]
  },
  {
   "cell_type": "code",
   "execution_count": 12,
   "id": "141fe231",
   "metadata": {},
   "outputs": [],
   "source": [
    "reviewer.columns = ['id']"
   ]
  },
  {
   "cell_type": "code",
   "execution_count": 13,
   "id": "23b543d1",
   "metadata": {},
   "outputs": [],
   "source": [
    "# General form of id itself: remove the leading 'reviewer_en_'\n",
    "reviewer_id = reviewer['id'].apply(lambda x: x.split('_')[-1])"
   ]
  },
  {
   "cell_type": "code",
   "execution_count": 14,
   "id": "a3b7eefd",
   "metadata": {},
   "outputs": [
    {
     "data": {
      "text/plain": [
       "0228364    2\n",
       "0555851    2\n",
       "0987470    1\n",
       "0786257    1\n",
       "0366796    1\n",
       "          ..\n",
       "0039415    1\n",
       "0888331    1\n",
       "0571450    1\n",
       "0008837    1\n",
       "0850986    1\n",
       "Name: id, Length: 4998, dtype: int64"
      ]
     },
     "execution_count": 14,
     "metadata": {},
     "output_type": "execute_result"
    }
   ],
   "source": [
    "reviewer_id.value_counts()"
   ]
  },
  {
   "cell_type": "markdown",
   "id": "7f3bdaab",
   "metadata": {},
   "source": [
    "Meh, only two reviewers in the whole set submitted two reviews each. "
   ]
  },
  {
   "cell_type": "code",
   "execution_count": 15,
   "id": "67e9d87c",
   "metadata": {},
   "outputs": [],
   "source": [
    "df = pd.concat([stars, category, title, body], axis=1)\n",
    "df.columns = ['stars','category','title','body']"
   ]
  },
  {
   "cell_type": "code",
   "execution_count": 16,
   "id": "374d2983",
   "metadata": {},
   "outputs": [
    {
     "data": {
      "text/html": [
       "<div>\n",
       "<style scoped>\n",
       "    .dataframe tbody tr th:only-of-type {\n",
       "        vertical-align: middle;\n",
       "    }\n",
       "\n",
       "    .dataframe tbody tr th {\n",
       "        vertical-align: top;\n",
       "    }\n",
       "\n",
       "    .dataframe thead th {\n",
       "        text-align: right;\n",
       "    }\n",
       "</style>\n",
       "<table border=\"1\" class=\"dataframe\">\n",
       "  <thead>\n",
       "    <tr style=\"text-align: right;\">\n",
       "      <th></th>\n",
       "      <th>stars</th>\n",
       "      <th>category</th>\n",
       "      <th>title</th>\n",
       "      <th>body</th>\n",
       "    </tr>\n",
       "  </thead>\n",
       "  <tbody>\n",
       "    <tr>\n",
       "      <th>0</th>\n",
       "      <td>1</td>\n",
       "      <td>baby_product</td>\n",
       "      <td>Not worth the price and very bad cap design</td>\n",
       "      <td>Pathetic design of the caps. Very impractical ...</td>\n",
       "    </tr>\n",
       "    <tr>\n",
       "      <th>1</th>\n",
       "      <td>1</td>\n",
       "      <td>shoes</td>\n",
       "      <td>Garbage!</td>\n",
       "      <td>Shoes were purchased on March 6, 2019. My wife...</td>\n",
       "    </tr>\n",
       "    <tr>\n",
       "      <th>2</th>\n",
       "      <td>1</td>\n",
       "      <td>office_product</td>\n",
       "      <td>I do not recommend this printer</td>\n",
       "      <td>It's taken me 1 whole year to set this thing u...</td>\n",
       "    </tr>\n",
       "    <tr>\n",
       "      <th>3</th>\n",
       "      <td>1</td>\n",
       "      <td>office_product</td>\n",
       "      <td>Don't purchase these refurbished cartridges!</td>\n",
       "      <td>Each cartridge printed once. Both dried up in ...</td>\n",
       "    </tr>\n",
       "    <tr>\n",
       "      <th>4</th>\n",
       "      <td>1</td>\n",
       "      <td>baby_product</td>\n",
       "      <td>Not worth</td>\n",
       "      <td>No light hard to see</td>\n",
       "    </tr>\n",
       "  </tbody>\n",
       "</table>\n",
       "</div>"
      ],
      "text/plain": [
       "  stars        category                                         title  \\\n",
       "0     1    baby_product   Not worth the price and very bad cap design   \n",
       "1     1           shoes                                      Garbage!   \n",
       "2     1  office_product               I do not recommend this printer   \n",
       "3     1  office_product  Don't purchase these refurbished cartridges!   \n",
       "4     1    baby_product                                     Not worth   \n",
       "\n",
       "                                                body  \n",
       "0  Pathetic design of the caps. Very impractical ...  \n",
       "1  Shoes were purchased on March 6, 2019. My wife...  \n",
       "2  It's taken me 1 whole year to set this thing u...  \n",
       "3  Each cartridge printed once. Both dried up in ...  \n",
       "4                               No light hard to see  "
      ]
     },
     "execution_count": 16,
     "metadata": {},
     "output_type": "execute_result"
    }
   ],
   "source": [
    "df.head()"
   ]
  },
  {
   "cell_type": "code",
   "execution_count": 17,
   "id": "6c9babbd",
   "metadata": {},
   "outputs": [],
   "source": [
    "df.to_csv('csv/dataset_en_dev.csv', index=False)"
   ]
  },
  {
   "cell_type": "markdown",
   "id": "a7e4e078",
   "metadata": {},
   "source": [
    "# Now to do the (large) train file:\n"
   ]
  },
  {
   "cell_type": "code",
   "execution_count": 18,
   "id": "d2a5f4c5",
   "metadata": {},
   "outputs": [],
   "source": [
    "reviews = []\n",
    "for line in open('json/train/dataset_en_train.json', 'r'):\n",
    "    reviews.append(json.loads(line))"
   ]
  },
  {
   "cell_type": "code",
   "execution_count": 19,
   "id": "e71b04ed",
   "metadata": {},
   "outputs": [],
   "source": [
    "stars = extract_feature('stars')\n",
    "title = extract_feature('review_title')\n",
    "category = extract_feature('product_category')\n",
    "body = extract_feature('review_body')"
   ]
  },
  {
   "cell_type": "code",
   "execution_count": 20,
   "id": "73b34b5d",
   "metadata": {},
   "outputs": [],
   "source": [
    "df = pd.concat([stars, category, title, body], axis=1)\n",
    "df.columns = ['stars','category','title','body']"
   ]
  },
  {
   "cell_type": "code",
   "execution_count": 21,
   "id": "1a0377bd",
   "metadata": {},
   "outputs": [
    {
     "data": {
      "text/html": [
       "<div>\n",
       "<style scoped>\n",
       "    .dataframe tbody tr th:only-of-type {\n",
       "        vertical-align: middle;\n",
       "    }\n",
       "\n",
       "    .dataframe tbody tr th {\n",
       "        vertical-align: top;\n",
       "    }\n",
       "\n",
       "    .dataframe thead th {\n",
       "        text-align: right;\n",
       "    }\n",
       "</style>\n",
       "<table border=\"1\" class=\"dataframe\">\n",
       "  <thead>\n",
       "    <tr style=\"text-align: right;\">\n",
       "      <th></th>\n",
       "      <th>stars</th>\n",
       "      <th>category</th>\n",
       "      <th>title</th>\n",
       "      <th>body</th>\n",
       "    </tr>\n",
       "  </thead>\n",
       "  <tbody>\n",
       "    <tr>\n",
       "      <th>count</th>\n",
       "      <td>200000</td>\n",
       "      <td>200000</td>\n",
       "      <td>200000</td>\n",
       "      <td>200000</td>\n",
       "    </tr>\n",
       "    <tr>\n",
       "      <th>unique</th>\n",
       "      <td>5</td>\n",
       "      <td>31</td>\n",
       "      <td>137406</td>\n",
       "      <td>199426</td>\n",
       "    </tr>\n",
       "    <tr>\n",
       "      <th>top</th>\n",
       "      <td>1</td>\n",
       "      <td>home</td>\n",
       "      <td>Three Stars</td>\n",
       "      <td>Smaller than expected</td>\n",
       "    </tr>\n",
       "    <tr>\n",
       "      <th>freq</th>\n",
       "      <td>40000</td>\n",
       "      <td>17679</td>\n",
       "      <td>4169</td>\n",
       "      <td>29</td>\n",
       "    </tr>\n",
       "  </tbody>\n",
       "</table>\n",
       "</div>"
      ],
      "text/plain": [
       "         stars category        title                   body\n",
       "count   200000   200000       200000                 200000\n",
       "unique       5       31       137406                 199426\n",
       "top          1     home  Three Stars  Smaller than expected\n",
       "freq     40000    17679         4169                     29"
      ]
     },
     "execution_count": 21,
     "metadata": {},
     "output_type": "execute_result"
    }
   ],
   "source": [
    "df.describe()"
   ]
  },
  {
   "cell_type": "code",
   "execution_count": 22,
   "id": "666123c0",
   "metadata": {},
   "outputs": [],
   "source": [
    "df.to_csv('csv/dataset_en_train.csv', index=False)"
   ]
  },
  {
   "cell_type": "markdown",
   "id": "87009aef",
   "metadata": {},
   "source": [
    "# Next the smaller test file:"
   ]
  },
  {
   "cell_type": "code",
   "execution_count": 23,
   "id": "36fbb688",
   "metadata": {},
   "outputs": [],
   "source": [
    "reviews = []\n",
    "for line in open('json/test/dataset_en_test.json', 'r'):\n",
    "    reviews.append(json.loads(line))\n",
    "    "
   ]
  },
  {
   "cell_type": "code",
   "execution_count": 24,
   "id": "c8f739cb",
   "metadata": {},
   "outputs": [],
   "source": [
    "stars = extract_feature('stars')\n",
    "title = extract_feature('review_title')\n",
    "category = extract_feature('product_category')\n",
    "body = extract_feature('review_body')"
   ]
  },
  {
   "cell_type": "code",
   "execution_count": 25,
   "id": "d9e13eb9",
   "metadata": {},
   "outputs": [],
   "source": [
    "df = pd.concat([stars, category, title, body], axis=1)\n",
    "df.columns = ['stars','category','title','body']"
   ]
  },
  {
   "cell_type": "code",
   "execution_count": 26,
   "id": "ba51799a",
   "metadata": {},
   "outputs": [
    {
     "data": {
      "text/html": [
       "<div>\n",
       "<style scoped>\n",
       "    .dataframe tbody tr th:only-of-type {\n",
       "        vertical-align: middle;\n",
       "    }\n",
       "\n",
       "    .dataframe tbody tr th {\n",
       "        vertical-align: top;\n",
       "    }\n",
       "\n",
       "    .dataframe thead th {\n",
       "        text-align: right;\n",
       "    }\n",
       "</style>\n",
       "<table border=\"1\" class=\"dataframe\">\n",
       "  <thead>\n",
       "    <tr style=\"text-align: right;\">\n",
       "      <th></th>\n",
       "      <th>stars</th>\n",
       "      <th>category</th>\n",
       "      <th>title</th>\n",
       "      <th>body</th>\n",
       "    </tr>\n",
       "  </thead>\n",
       "  <tbody>\n",
       "    <tr>\n",
       "      <th>count</th>\n",
       "      <td>5000</td>\n",
       "      <td>5000</td>\n",
       "      <td>5000</td>\n",
       "      <td>5000</td>\n",
       "    </tr>\n",
       "    <tr>\n",
       "      <th>unique</th>\n",
       "      <td>5</td>\n",
       "      <td>31</td>\n",
       "      <td>4116</td>\n",
       "      <td>5000</td>\n",
       "    </tr>\n",
       "    <tr>\n",
       "      <th>top</th>\n",
       "      <td>1</td>\n",
       "      <td>home</td>\n",
       "      <td>Three Stars</td>\n",
       "      <td>These are AWFUL. They are see through, the fab...</td>\n",
       "    </tr>\n",
       "    <tr>\n",
       "      <th>freq</th>\n",
       "      <td>1000</td>\n",
       "      <td>440</td>\n",
       "      <td>110</td>\n",
       "      <td>1</td>\n",
       "    </tr>\n",
       "  </tbody>\n",
       "</table>\n",
       "</div>"
      ],
      "text/plain": [
       "       stars category        title  \\\n",
       "count   5000     5000         5000   \n",
       "unique     5       31         4116   \n",
       "top        1     home  Three Stars   \n",
       "freq    1000      440          110   \n",
       "\n",
       "                                                     body  \n",
       "count                                                5000  \n",
       "unique                                               5000  \n",
       "top     These are AWFUL. They are see through, the fab...  \n",
       "freq                                                    1  "
      ]
     },
     "execution_count": 26,
     "metadata": {},
     "output_type": "execute_result"
    }
   ],
   "source": [
    "df.describe()"
   ]
  },
  {
   "cell_type": "code",
   "execution_count": 27,
   "id": "c6441363",
   "metadata": {},
   "outputs": [],
   "source": [
    "df.to_csv('csv/dataset_en_test.csv', index=False)"
   ]
  },
  {
   "cell_type": "code",
   "execution_count": 28,
   "id": "8f25f344",
   "metadata": {},
   "outputs": [
    {
     "data": {
      "text/html": [
       "<div>\n",
       "<style scoped>\n",
       "    .dataframe tbody tr th:only-of-type {\n",
       "        vertical-align: middle;\n",
       "    }\n",
       "\n",
       "    .dataframe tbody tr th {\n",
       "        vertical-align: top;\n",
       "    }\n",
       "\n",
       "    .dataframe thead th {\n",
       "        text-align: right;\n",
       "    }\n",
       "</style>\n",
       "<table border=\"1\" class=\"dataframe\">\n",
       "  <thead>\n",
       "    <tr style=\"text-align: right;\">\n",
       "      <th></th>\n",
       "      <th>stars</th>\n",
       "      <th>category</th>\n",
       "      <th>title</th>\n",
       "      <th>body</th>\n",
       "    </tr>\n",
       "  </thead>\n",
       "  <tbody>\n",
       "    <tr>\n",
       "      <th>0</th>\n",
       "      <td>1</td>\n",
       "      <td>apparel</td>\n",
       "      <td>Don’t waste your time!</td>\n",
       "      <td>These are AWFUL. They are see through, the fab...</td>\n",
       "    </tr>\n",
       "    <tr>\n",
       "      <th>1</th>\n",
       "      <td>1</td>\n",
       "      <td>other</td>\n",
       "      <td>One Star</td>\n",
       "      <td>I bought 4 and NONE of them worked. Yes I used...</td>\n",
       "    </tr>\n",
       "    <tr>\n",
       "      <th>2</th>\n",
       "      <td>1</td>\n",
       "      <td>other</td>\n",
       "      <td>Totally useless</td>\n",
       "      <td>On first use it didn't heat up and now it does...</td>\n",
       "    </tr>\n",
       "    <tr>\n",
       "      <th>3</th>\n",
       "      <td>1</td>\n",
       "      <td>jewelry</td>\n",
       "      <td>Gold filled earrings</td>\n",
       "      <td>You want an HONEST answer? I just returned fro...</td>\n",
       "    </tr>\n",
       "    <tr>\n",
       "      <th>4</th>\n",
       "      <td>1</td>\n",
       "      <td>industrial_supplies</td>\n",
       "      <td>Poor container</td>\n",
       "      <td>The glue works fine but the container is impos...</td>\n",
       "    </tr>\n",
       "  </tbody>\n",
       "</table>\n",
       "</div>"
      ],
      "text/plain": [
       "  stars             category                   title  \\\n",
       "0     1              apparel  Don’t waste your time!   \n",
       "1     1                other                One Star   \n",
       "2     1                other         Totally useless   \n",
       "3     1              jewelry    Gold filled earrings   \n",
       "4     1  industrial_supplies          Poor container   \n",
       "\n",
       "                                                body  \n",
       "0  These are AWFUL. They are see through, the fab...  \n",
       "1  I bought 4 and NONE of them worked. Yes I used...  \n",
       "2  On first use it didn't heat up and now it does...  \n",
       "3  You want an HONEST answer? I just returned fro...  \n",
       "4  The glue works fine but the container is impos...  "
      ]
     },
     "execution_count": 28,
     "metadata": {},
     "output_type": "execute_result"
    }
   ],
   "source": [
    "df.head()"
   ]
  },
  {
   "cell_type": "code",
   "execution_count": 29,
   "id": "37aa8d05",
   "metadata": {},
   "outputs": [
    {
     "name": "stdout",
     "output_type": "stream",
     "text": [
      "<class 'pandas.core.frame.DataFrame'>\n",
      "RangeIndex: 5000 entries, 0 to 4999\n",
      "Data columns (total 4 columns):\n",
      " #   Column    Non-Null Count  Dtype \n",
      "---  ------    --------------  ----- \n",
      " 0   stars     5000 non-null   object\n",
      " 1   category  5000 non-null   object\n",
      " 2   title     5000 non-null   object\n",
      " 3   body      5000 non-null   object\n",
      "dtypes: object(4)\n",
      "memory usage: 156.4+ KB\n"
     ]
    }
   ],
   "source": [
    "df.info()"
   ]
  }
 ],
 "metadata": {
  "kernelspec": {
   "display_name": "Python 3",
   "language": "python",
   "name": "python3"
  },
  "language_info": {
   "codemirror_mode": {
    "name": "ipython",
    "version": 3
   },
   "file_extension": ".py",
   "mimetype": "text/x-python",
   "name": "python",
   "nbconvert_exporter": "python",
   "pygments_lexer": "ipython3",
   "version": "3.8.12"
  }
 },
 "nbformat": 4,
 "nbformat_minor": 5
}
