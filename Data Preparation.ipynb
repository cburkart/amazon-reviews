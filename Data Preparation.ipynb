{
 "cells": [
  {
   "cell_type": "markdown",
   "id": "9c93eb36",
   "metadata": {},
   "source": [
    "# Data Preparation\n",
    "\n",
    "The purpose of this notebook is only to pull from the original json file and export to csv. The intent is to make it easier to do subsequent exploration, visualization, and modeling."
   ]
  },
  {
   "cell_type": "code",
   "execution_count": 64,
   "id": "10e657ec",
   "metadata": {},
   "outputs": [],
   "source": [
    "import json\n",
    "import pandas as pd"
   ]
  },
  {
   "cell_type": "code",
   "execution_count": 39,
   "id": "7fdd0dab",
   "metadata": {},
   "outputs": [],
   "source": [
    "reviews = []\n",
    "for line in open('json/dev/dataset_en_dev.json', 'r'):\n",
    "    reviews.append(json.loads(line))"
   ]
  },
  {
   "cell_type": "code",
   "execution_count": 40,
   "id": "1b4fc9c8",
   "metadata": {},
   "outputs": [
    {
     "data": {
      "text/plain": [
       "5000"
      ]
     },
     "execution_count": 40,
     "metadata": {},
     "output_type": "execute_result"
    }
   ],
   "source": [
    "len(reviews)"
   ]
  },
  {
   "cell_type": "code",
   "execution_count": 26,
   "id": "e6670ee4",
   "metadata": {},
   "outputs": [
    {
     "data": {
      "text/plain": [
       "'1'"
      ]
     },
     "execution_count": 26,
     "metadata": {},
     "output_type": "execute_result"
    }
   ],
   "source": [
    "reviews[1]['stars']"
   ]
  },
  {
   "cell_type": "code",
   "execution_count": 30,
   "id": "b339e658",
   "metadata": {},
   "outputs": [
    {
     "data": {
      "text/plain": [
       "'Garbage!'"
      ]
     },
     "execution_count": 30,
     "metadata": {},
     "output_type": "execute_result"
    }
   ],
   "source": [
    "reviews[1]['review_title']"
   ]
  },
  {
   "cell_type": "code",
   "execution_count": 32,
   "id": "3e4a27f0",
   "metadata": {},
   "outputs": [
    {
     "data": {
      "text/plain": [
       "'shoes'"
      ]
     },
     "execution_count": 32,
     "metadata": {},
     "output_type": "execute_result"
    }
   ],
   "source": [
    "reviews[1]['product_category']"
   ]
  },
  {
   "cell_type": "code",
   "execution_count": 41,
   "id": "7aa66fb6",
   "metadata": {},
   "outputs": [
    {
     "data": {
      "text/plain": [
       "\"Shoes were purchased on March 6, 2019. My wife wore them a couple times a week since receiving them. April 19, 2019 one of the leather straps broke. Checked return policy and it expired on April 6. One month of warranty? Won't buy shoes from Amazon again.\""
      ]
     },
     "execution_count": 41,
     "metadata": {},
     "output_type": "execute_result"
    }
   ],
   "source": [
    "reviews[1]['review_body']"
   ]
  },
  {
   "cell_type": "code",
   "execution_count": 42,
   "id": "1f44cf59",
   "metadata": {},
   "outputs": [
    {
     "data": {
      "text/plain": [
       "{'review_id': 'en_0830781',\n",
       " 'product_id': 'product_en_0004522',\n",
       " 'reviewer_id': 'reviewer_en_0731158',\n",
       " 'stars': '1',\n",
       " 'review_body': \"Shoes were purchased on March 6, 2019. My wife wore them a couple times a week since receiving them. April 19, 2019 one of the leather straps broke. Checked return policy and it expired on April 6. One month of warranty? Won't buy shoes from Amazon again.\",\n",
       " 'review_title': 'Garbage!',\n",
       " 'language': 'en',\n",
       " 'product_category': 'shoes'}"
      ]
     },
     "execution_count": 42,
     "metadata": {},
     "output_type": "execute_result"
    }
   ],
   "source": [
    "reviews[1]"
   ]
  },
  {
   "cell_type": "code",
   "execution_count": 65,
   "id": "46f8f4f0",
   "metadata": {},
   "outputs": [],
   "source": [
    "# Create individual data columns\n",
    "def extract_feature(label):\n",
    "    output = []\n",
    "    for i in range(0,len(reviews)):\n",
    "        output.append(reviews[i][label])\n",
    "    return(pd.DataFrame(output))\n",
    "\n",
    "# stars = []\n",
    "# for i in range(0,len(reviews)):\n",
    "#     stars.append(reviews[i]['stars'])"
   ]
  },
  {
   "cell_type": "code",
   "execution_count": 70,
   "id": "9b411859",
   "metadata": {},
   "outputs": [],
   "source": [
    "stars = extract_feature('stars')\n",
    "title = extract_feature('review_title')\n",
    "category = extract_feature('product_category')\n",
    "body = extract_feature('review_body')\n",
    "reviewer = extract_feature('reviewer_id')"
   ]
  },
  {
   "cell_type": "code",
   "execution_count": 69,
   "id": "47107f11",
   "metadata": {},
   "outputs": [
    {
     "data": {
      "text/plain": [
       "1    1000\n",
       "2    1000\n",
       "3    1000\n",
       "4    1000\n",
       "5    1000\n",
       "dtype: int64"
      ]
     },
     "execution_count": 69,
     "metadata": {},
     "output_type": "execute_result"
    }
   ],
   "source": [
    "stars.value_counts()"
   ]
  },
  {
   "cell_type": "markdown",
   "id": "78908b38",
   "metadata": {},
   "source": [
    "Interesting, perfectly balanced category counts..."
   ]
  },
  {
   "cell_type": "markdown",
   "id": "3e6903d8",
   "metadata": {},
   "source": [
    "Is there a possiblity that we have multiple reviews by the same reviewer? If so that might be something to consider, e.g. if there's evidence they're machine generated they might be removed; or if there are many multi-review submissions we can normalize to that reviewer (is it someone who tends to give mostly 1's or mostly 5's?)"
   ]
  },
  {
   "cell_type": "code",
   "execution_count": 80,
   "id": "7e1cf578",
   "metadata": {},
   "outputs": [],
   "source": [
    "reviewer.columns = ['id']"
   ]
  },
  {
   "cell_type": "code",
   "execution_count": 118,
   "id": "4d5d079e",
   "metadata": {},
   "outputs": [],
   "source": [
    "# General form of id itself: remove the leading 'reviewer_en_'\n",
    "reviewer_id = reviewer['id'].apply(lambda x: x.split('_')[-1])"
   ]
  },
  {
   "cell_type": "code",
   "execution_count": 120,
   "id": "6dd704ae",
   "metadata": {},
   "outputs": [
    {
     "data": {
      "text/plain": [
       "0228364    2\n",
       "0555851    2\n",
       "0987470    1\n",
       "0786257    1\n",
       "0366796    1\n",
       "          ..\n",
       "0039415    1\n",
       "0888331    1\n",
       "0571450    1\n",
       "0008837    1\n",
       "0850986    1\n",
       "Name: id, Length: 4998, dtype: int64"
      ]
     },
     "execution_count": 120,
     "metadata": {},
     "output_type": "execute_result"
    }
   ],
   "source": [
    "reviewer_id.value_counts()"
   ]
  },
  {
   "cell_type": "markdown",
   "id": "aac2a83e",
   "metadata": {},
   "source": [
    "Meh, only two reviewers in the whole set submitted two reviews each. "
   ]
  },
  {
   "cell_type": "code",
   "execution_count": null,
   "id": "701ac4e0",
   "metadata": {},
   "outputs": [],
   "source": [
    "df = "
   ]
  }
 ],
 "metadata": {
  "kernelspec": {
   "display_name": "Python 3",
   "language": "python",
   "name": "python3"
  },
  "language_info": {
   "codemirror_mode": {
    "name": "ipython",
    "version": 3
   },
   "file_extension": ".py",
   "mimetype": "text/x-python",
   "name": "python",
   "nbconvert_exporter": "python",
   "pygments_lexer": "ipython3",
   "version": "3.8.12"
  }
 },
 "nbformat": 4,
 "nbformat_minor": 5
}
